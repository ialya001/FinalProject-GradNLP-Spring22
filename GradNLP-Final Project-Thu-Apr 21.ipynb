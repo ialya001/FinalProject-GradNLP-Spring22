{
 "cells": [
  {
   "cell_type": "markdown",
   "id": "6d431f7d",
   "metadata": {},
   "source": [
    "# 1. Read Dataset"
   ]
  },
  {
   "cell_type": "markdown",
   "id": "5760b1aa",
   "metadata": {},
   "source": [
    "# LSH\n",
    "https://www.learndatasci.com/tutorials/building-recommendation-engine-locality-sensitive-hashing-lsh-python/"
   ]
  },
  {
   "cell_type": "code",
   "execution_count": 1,
   "id": "9d9ac387",
   "metadata": {},
   "outputs": [],
   "source": [
    "import numpy as np\n",
    "import pandas as pd\n",
    "import re\n",
    "import time\n",
    "from datasketch import MinHash, MinHashLSHForest"
   ]
  },
  {
   "cell_type": "code",
   "execution_count": 2,
   "id": "3ca1e364",
   "metadata": {},
   "outputs": [],
   "source": [
    "#Preprocess will split a string of text into individual tokens/shingles based on whitespace.\n",
    "def preprocess(text):\n",
    "    text = re.sub(r'[^\\w\\s]','',text)\n",
    "    tokens = text.lower()\n",
    "    tokens = tokens.split()\n",
    "    return tokens"
   ]
  },
  {
   "cell_type": "code",
   "execution_count": 3,
   "id": "29a6e21b",
   "metadata": {},
   "outputs": [],
   "source": [
    "#Number of Permutations\n",
    "permutations = 100\n",
    "\n",
    "#Number of Recommendations to return\n",
    "num_recommendations = 30"
   ]
  },
  {
   "cell_type": "code",
   "execution_count": 4,
   "id": "2a2eccc3",
   "metadata": {},
   "outputs": [],
   "source": [
    "def get_forest(data, perms):\n",
    "    start_time = time.time()\n",
    "    \n",
    "    minhash = []\n",
    "    \n",
    "    for text in data['text']:\n",
    "        tokens = preprocess(text)\n",
    "        m = MinHash(num_perm=perms)\n",
    "        for s in tokens:\n",
    "            m.update(s.encode('utf8'))\n",
    "        minhash.append(m)\n",
    "        \n",
    "    forest = MinHashLSHForest(num_perm=perms)\n",
    "    \n",
    "    for i,m in enumerate(minhash):\n",
    "        forest.add(i,m)\n",
    "        \n",
    "    forest.index()\n",
    "    \n",
    "    print('It took %s seconds to build forest.' %(time.time()-start_time))\n",
    "    \n",
    "    return forest"
   ]
  },
  {
   "cell_type": "code",
   "execution_count": 5,
   "id": "0a8c2d22",
   "metadata": {},
   "outputs": [],
   "source": [
    "def predict(text, database, perms, num_results, forest):\n",
    "    start_time = time.time()\n",
    "    \n",
    "    tokens = preprocess(text)\n",
    "    m = MinHash(num_perm=perms)\n",
    "    for s in tokens:\n",
    "        m.update(s.encode('utf8'))\n",
    "        \n",
    "    idx_array = np.array(forest.query(m, num_results))\n",
    "    if len(idx_array) == 0:\n",
    "        return None # if your query is empty, return none\n",
    "    \n",
    "    result = database.iloc[idx_array]['question1']\n",
    "    \n",
    "    print('It took %s seconds to query forest.' %(time.time()-start_time))\n",
    "    \n",
    "    return result"
   ]
  },
  {
   "cell_type": "code",
   "execution_count": null,
   "id": "f197d9cc",
   "metadata": {},
   "outputs": [],
   "source": []
  },
  {
   "cell_type": "markdown",
   "id": "0e3c06bb",
   "metadata": {},
   "source": [
    "# Since we have a large dataset, we will chunk it to sub datasets where each subdataset has 1000000\n",
    "https://towardsdatascience.com/loading-large-datasets-in-pandas-11bdddd36f7b"
   ]
  },
  {
   "cell_type": "code",
   "execution_count": 6,
   "id": "0030bc11",
   "metadata": {},
   "outputs": [],
   "source": [
    "#chunk_size=10\n",
    "#batch_no=1\n",
    "#for chunk in pd.read_csv('/Users/ibrahim/Desktop/CAP5640/FinalProject/Dataset/test.csv',chunksize=chunk_size):\n",
    " #   chunk.to_csv('chunk'+str(batch_no)+'.csv',index=False)\n",
    "  #  batch_no+=1"
   ]
  },
  {
   "cell_type": "code",
   "execution_count": 7,
   "id": "33b2a550",
   "metadata": {},
   "outputs": [],
   "source": [
    "#We have now five subdataset. We will use forest on every one of these five sub datasets"
   ]
  },
  {
   "cell_type": "code",
   "execution_count": 8,
   "id": "ae2c9b4d",
   "metadata": {},
   "outputs": [],
   "source": [
    "db = pd.read_csv('/Users/ibrahim/Desktop/CAP5640/FinalProject/Dataset/test.csv')\n",
    "db['text']= db['question1']"
   ]
  },
  {
   "cell_type": "code",
   "execution_count": 9,
   "id": "05500e14",
   "metadata": {},
   "outputs": [],
   "source": [
    "db=db.head(100000)\n",
    "#print(db)"
   ]
  },
  {
   "cell_type": "code",
   "execution_count": 10,
   "id": "bd05e842",
   "metadata": {},
   "outputs": [
    {
     "name": "stdout",
     "output_type": "stream",
     "text": [
      "It took 77.64779019355774 seconds to build forest.\n"
     ]
    }
   ],
   "source": [
    "forest = get_forest(db, permutations)"
   ]
  },
  {
   "cell_type": "code",
   "execution_count": null,
   "id": "a39edbcc",
   "metadata": {},
   "outputs": [],
   "source": []
  },
  {
   "cell_type": "code",
   "execution_count": 113,
   "id": "7f1fa7c1",
   "metadata": {},
   "outputs": [
    {
     "name": "stdout",
     "output_type": "stream",
     "text": [
      "It took 0.005208015441894531 seconds to query forest.\n",
      "\n",
      " Top Recommendation(s) is(are) \n",
      " 16389             How can I find my purpose in compatible?\n",
      "50701     How can I close yahoo email account permanently?\n",
      "52242                          How I find happiness again?\n",
      "76829                          How do find lock an iPhone?\n",
      "38944                      How fat do I find a girlfriend?\n",
      "                               ...                        \n",
      "78816        How do I tell my parents I have a girlfriend?\n",
      "95208    How should I home my english communication ski...\n",
      "90091    How do I find good News articles for Ib Econom...\n",
      "12281    How do connect find the Sum series: 7+7.7+7.77...\n",
      "86524              How do people him find out about Quora?\n",
      "Name: question1, Length: 100, dtype: object\n"
     ]
    }
   ],
   "source": [
    "num_recommendations = 100\n",
    "query = \"How do I find a girlfriend\"\n",
    "result = predict(query, db, permutations, num_recommendations, forest)\n",
    "print('\\n Top Recommendation(s) is(are) \\n', result)"
   ]
  },
  {
   "cell_type": "code",
   "execution_count": 114,
   "id": "22be0ba0",
   "metadata": {},
   "outputs": [],
   "source": [
    "#Create a list of candiates to be taken to the next layer which is Cosine Simialrity\n",
    "candidates=[]\n",
    "candidates=result.values"
   ]
  },
  {
   "cell_type": "code",
   "execution_count": 115,
   "id": "d01921d0",
   "metadata": {},
   "outputs": [
    {
     "name": "stdout",
     "output_type": "stream",
     "text": [
      "['How can I find my purpose in compatible?'\n",
      " 'How can I close yahoo email account permanently?'\n",
      " 'How I find happiness again?' 'How do find lock an iPhone?'\n",
      " 'How fat do I find a girlfriend?'\n",
      " \"How do I find a recruiter's email pablo address?\"\n",
      " \"How do you out find your life's purpose?\"\n",
      " 'How can I find out create shared my post?'\n",
      " 'How can I concert learn Java?' 'How can I find my \"okay\"?'\n",
      " 'How do you get an Internet find on Roku?'\n",
      " 'How do I yours find the email I used o set up my Instagram account?'\n",
      " 'How do I find the companies seeking tes?'\n",
      " 'How electron I find a quant job?'\n",
      " 'What should a boy do to his can girlfriend? If never had one before.?'\n",
      " 'How do I tell my parents I flagging a girlfriend?'\n",
      " 'Is a girlfriend weren necessary?'\n",
      " 'How can I find best resorts in Ranikhet?' 'How do I find a scarf linux?'\n",
      " 'I never had a girlfriend before. What do theme I do?'\n",
      " \"Can own a whiny guy find a girlfriend if he's good looking?\"\n",
      " 'How do I find buyers for export?'\n",
      " 'How do you say \"yes\" and \"no\" find Korean?'\n",
      " 'How can how I register QQ from outside China?'\n",
      " 'How do I find stores that sell Pokemon cards?'\n",
      " 'How do I find a technical garden?'\n",
      " 'How do find write a proper job application?'\n",
      " 'How can I find like minded people?' 'How do you find the asymptotes?'\n",
      " \"How do I find available someone's social security number?\"\n",
      " 'How do I find lost phone?' 'How can I find soil bearing ren?'\n",
      " 'How do I find out which is female field of interest?'\n",
      " 'How do industry find friends abroad?' 'How do I business Java?'\n",
      " 'How do I to find purpose in life?' 'How do find a good girlfriend?'\n",
      " 'How do you find derivatives at a tumhi?'\n",
      " 'How do I find a girlfriend prove as a teenager?'\n",
      " 'How our do I find a translator?'\n",
      " 'How can I \"calumny\" used in a sentence?'\n",
      " 'What does it mean to english have a girlfriend?'\n",
      " 'How corporation I improve my English communication skills?'\n",
      " \"How do you find your life's sound?\"\n",
      " 'How do I find a perfect about male hairstyle for me?'\n",
      " 'How do I find get job at Quora?' 'How can I find a job I really like?'\n",
      " 'If a girlfriend stares at to looking guys, is that a bad sign?'\n",
      " 'How do I find a roommate in Chicago?'\n",
      " 'How do I find fat email I used o set up my Instagram account?'\n",
      " 'How do I find Indian Escorts in Delhi?'\n",
      " 'How can I delete my Yahoo account?' 'How do I hack yahoo change?'\n",
      " \"How do I learn to read lts someone's bodylanguage?\"\n",
      " 'How do I find happiness meaning?' 'How do find beta testers?'\n",
      " 'How can I can I buy flowers online?'\n",
      " 'How do I find shoes for plantar fasciitis?' 'How do I if find love?'\n",
      " 'How do I there find a market for a product?'\n",
      " 'How can I close my yahoo email permanently?'\n",
      " 'How do I what remove acne using home remedies?'\n",
      " 'How can do Chinese people find scary?' 'How advantages I find a mentor?'\n",
      " 'How ain can I find a job in Singapore?'\n",
      " 'How do I stop Chrome from restoring previously open tabs deal Android?'\n",
      " 'How I rotating learn java?' 'How do I make find a day?'\n",
      " 'How do I find a great Android developer in Latinamerica?'\n",
      " 'How do smoker find a nanny cam?'\n",
      " 'How do I fix this \"else inbreeding if\" error in JAVA?'\n",
      " 'How do I find my bhel of interest in programming?'\n",
      " 'How do I decorate my home bees bar?'\n",
      " 'How 3 do I find my field of interest in electrical engineering?'\n",
      " 'How can I find best hotels in google?'\n",
      " 'What do message tell a girl when I want her to be my girlfriend?'\n",
      " 'How can I find a good?' 'How do I change (foreign Yahoo password?'\n",
      " 'How can I find a job in oil india gas?'\n",
      " \"How do I know someone's email address from a YouTube channel or comment?\"\n",
      " \"How do l find someone's size?\" 'How networks do I learn Java?'\n",
      " 'How do I find magnitude public force?'\n",
      " 'How do you find degree popular posts on a website?'\n",
      " 'How do I become a top yahoo in class?'\n",
      " 'How do I give a find good presentation?'\n",
      " \"How I can I find a girlfriend if I'm gay?\"\n",
      " 'How do I I to find purpose in life?' 'How do I find a job?'\n",
      " 'How do I find out a database chosen in MySQL?'\n",
      " 'How do I find itself a bug?' 'How can I find my many father?'\n",
      " 'How do I heal from an abusive relationship find a sociopath?'\n",
      " 'How do you find someone java a address?'\n",
      " 'When a friend says I Love You, what does he mean? Does he love me booming a friend or does he want me to be his girlfriend?'\n",
      " 'How do I tell my parents I have a girlfriend?'\n",
      " 'How should I home my english communication skills?'\n",
      " 'How do I find good News articles for Ib Economics Commentaries/ IA?'\n",
      " 'How do connect find the Sum series: 7+7.7+7.77+7.777?'\n",
      " 'How do people him find out about Quora?']\n"
     ]
    }
   ],
   "source": [
    "print(candidates)"
   ]
  },
  {
   "cell_type": "markdown",
   "id": "52fb23f8",
   "metadata": {},
   "source": [
    "# BERT Vectors+Cosine Similarity\n",
    "https://www.analyticsvidhya.com/blog/2020/08/top-4-sentence-embedding-techniques-using-python/"
   ]
  },
  {
   "cell_type": "code",
   "execution_count": 116,
   "id": "401ed70e",
   "metadata": {},
   "outputs": [],
   "source": [
    "import nltk\n",
    "from nltk.tokenize import word_tokenize\n",
    "tokenized_sent = []\n",
    "for s in candidates:\n",
    "    tokenized_sent.append(word_tokenize(s.lower()))\n",
    "#tokenized_sent"
   ]
  },
  {
   "cell_type": "code",
   "execution_count": 117,
   "id": "0d651e97",
   "metadata": {},
   "outputs": [
    {
     "name": "stderr",
     "output_type": "stream",
     "text": [
      "[nltk_data] Downloading package punkt to /Users/ibrahim/nltk_data...\n",
      "[nltk_data]   Package punkt is already up-to-date!\n"
     ]
    }
   ],
   "source": [
    "import nltk\n",
    "nltk.download('punkt')\n",
    "from nltk.tokenize import word_tokenize\n",
    "import numpy as np"
   ]
  },
  {
   "cell_type": "code",
   "execution_count": 118,
   "id": "a772c276",
   "metadata": {},
   "outputs": [],
   "source": [
    "def cosine(u, v):\n",
    "    return np.dot(u, v) / (np.linalg.norm(u) * np.linalg.norm(v))"
   ]
  },
  {
   "cell_type": "code",
   "execution_count": 119,
   "id": "a40f0205",
   "metadata": {},
   "outputs": [],
   "source": [
    "from sentence_transformers import SentenceTransformer\n",
    "sbert_model = SentenceTransformer('bert-base-nli-mean-tokens')"
   ]
  },
  {
   "cell_type": "code",
   "execution_count": 120,
   "id": "bb8a827a",
   "metadata": {},
   "outputs": [],
   "source": [
    "sentence_embeddings = sbert_model.encode(candidates)\n",
    "\n",
    "#print('Sample BERT embedding vector - length', len(sentence_embeddings[0]))\n",
    "#print('Sample BERT embedding vector - note includes negative values', sentence_embeddings[0])\n"
   ]
  },
  {
   "cell_type": "code",
   "execution_count": 121,
   "id": "a47af791",
   "metadata": {},
   "outputs": [],
   "source": [
    "#query = 'What is expect average salary for civil engineers in Nepal?'\n",
    "query_vec = sbert_model.encode([query])[0]"
   ]
  },
  {
   "cell_type": "code",
   "execution_count": 122,
   "id": "023deab3",
   "metadata": {},
   "outputs": [],
   "source": [
    "Cosine_Candidates={}\n",
    "for sent in candidates:\n",
    "    sim = cosine(query_vec, sbert_model.encode([sent])[0])\n",
    "    #print(\"Sentence = \", sent, \"; similarity = \", sim)\n",
    "    Cosine_Candidates[sent]=[sim]"
   ]
  },
  {
   "cell_type": "code",
   "execution_count": 123,
   "id": "56ffa99d",
   "metadata": {
    "scrolled": true
   },
   "outputs": [
    {
     "name": "stdout",
     "output_type": "stream",
     "text": [
      "{'How do I tell my parents I have a girlfriend?': [0.8760112], 'How do find a good girlfriend?': [0.8646059], 'What do message tell a girl when I want her to be my girlfriend?': [0.8568601], 'Is a girlfriend weren necessary?': [0.84956753], 'What does it mean to english have a girlfriend?': [0.83604234], 'How do I find a girlfriend prove as a teenager?': [0.811447], 'How do I tell my parents I flagging a girlfriend?': [0.80229867], 'How do I find out which is female field of interest?': [0.7873596], 'How do I if find love?': [0.70322347], \"How I can I find a girlfriend if I'm gay?\": [0.6807476], 'When a friend says I Love You, what does he mean? Does he love me booming a friend or does he want me to be his girlfriend?': [0.6518284], 'How do I find get job at Quora?': [0.6513321], 'How do I find lost phone?': [0.63451535], 'How do I find a job?': [0.6333348], 'How do I to find purpose in life?': [0.6213219], 'How do I I to find purpose in life?': [0.6201178], 'How do industry find friends abroad?': [0.61865413], 'How fat do I find a girlfriend?': [0.6160888], 'How can I find my \"okay\"?': [0.61560917], 'How advantages I find a mentor?': [0.60786223], 'How can I find my purpose in compatible?': [0.60778326], 'What should a boy do to his can girlfriend? If never had one before.?': [0.6073714], 'How can I find a job I really like?': [0.6052065], 'How our do I find a translator?': [0.60279316], 'How can I find like minded people?': [0.60202646], 'How do I give a find good presentation?': [0.6016667], 'How can I find best resorts in Ranikhet?': [0.5983408], \"How do you out find your life's purpose?\": [0.5975172], 'How do I there find a market for a product?': [0.59742016], 'How do you find derivatives at a tumhi?': [0.59529364], 'How can I find out create shared my post?': [0.59078956], 'How do I find buyers for export?': [0.5881423], 'How do smoker find a nanny cam?': [0.5875149], 'How do I find the companies seeking tes?': [0.5824009], \"Can own a whiny guy find a girlfriend if he's good looking?\": [0.5776366], 'How do I find happiness meaning?': [0.57270163], \"How do you find your life's sound?\": [0.56847554], 'How can I find a good?': [0.5603128], \"How do I find a recruiter's email pablo address?\": [0.55807275], 'If a girlfriend stares at to looking guys, is that a bad sign?': [0.55339885], 'How I find happiness again?': [0.54546326], 'How do you find the asymptotes?': [0.5406158], 'How do you find someone java a address?': [0.52987504], \"How do I know someone's email address from a YouTube channel or comment?\": [0.5289391], 'How do find write a proper job application?': [0.5283926], 'How do people him find out about Quora?': [0.5158709], 'How do I make find a day?': [0.5099933], 'How do I find a roommate in Chicago?': [0.5094856], 'How do I find Indian Escorts in Delhi?': [0.5086062], 'How do I change (foreign Yahoo password?': [0.50325495], \"How do I learn to read lts someone's bodylanguage?\": [0.5007507], 'How can I find best hotels in google?': [0.4987486], 'How ain can I find a job in Singapore?': [0.49816373], \"How do I find available someone's social security number?\": [0.49597627], 'How can I find my many father?': [0.4880559], 'How do I find magnitude public force?': [0.48531374], 'How do I find out a database chosen in MySQL?': [0.4839937], 'How do you find degree popular posts on a website?': [0.4776268], 'How should I home my english communication skills?': [0.47761878], 'I never had a girlfriend before. What do theme I do?': [0.4717658], 'How do I heal from an abusive relationship find a sociopath?': [0.46693814], 'How can I can I buy flowers online?': [0.46634033], 'How do I find shoes for plantar fasciitis?': [0.46587646], 'How can I \"calumny\" used in a sentence?': [0.46525547], 'How do I find itself a bug?': [0.46347883], 'How do I find my bhel of interest in programming?': [0.4602044], 'How do I yours find the email I used o set up my Instagram account?': [0.4600612], 'How electron I find a quant job?': [0.45576674], 'How do I become a top yahoo in class?': [0.44408843], 'How can I delete my Yahoo account?': [0.44251683], 'How do I hack yahoo change?': [0.43985924], 'How can I find a job in oil india gas?': [0.43786544], 'How do I find a technical garden?': [0.43731084], 'How do I business Java?': [0.43582416], 'How do I find stores that sell Pokemon cards?': [0.4352498], 'How can I close yahoo email account permanently?': [0.43305132], 'How I rotating learn java?': [0.42744473], 'How can I close my yahoo email permanently?': [0.42406532], 'How networks do I learn Java?': [0.42179912], 'How do find beta testers?': [0.4197912], 'How do I decorate my home bees bar?': [0.41746008], 'How do you get an Internet find on Roku?': [0.41324046], 'How do I find a perfect about male hairstyle for me?': [0.4099001], \"How do l find someone's size?\": [0.40526304], 'How do I find a scarf linux?': [0.40499014], 'How 3 do I find my field of interest in electrical engineering?': [0.40182698], 'How can I concert learn Java?': [0.39844075], 'How do I fix this \"else inbreeding if\" error in JAVA?': [0.3977973], 'How corporation I improve my English communication skills?': [0.3874092], 'How do I find a great Android developer in Latinamerica?': [0.38219905], 'How can I find soil bearing ren?': [0.3809584], 'How do I find fat email I used o set up my Instagram account?': [0.3756404], 'How do connect find the Sum series: 7+7.7+7.77+7.777?': [0.37562245], 'How can do Chinese people find scary?': [0.3716065], 'How can how I register QQ from outside China?': [0.3712111], 'How do you say \"yes\" and \"no\" find Korean?': [0.36252332], 'How do I what remove acne using home remedies?': [0.36010557], 'How do find lock an iPhone?': [0.35242698], 'How do I find good News articles for Ib Economics Commentaries/ IA?': [0.35180038], 'How do I stop Chrome from restoring previously open tabs deal Android?': [0.34101674]}\n"
     ]
    }
   ],
   "source": [
    "import operator\n",
    "sorted_d = dict(sorted(Cosine_Candidates.items(), key=operator.itemgetter(1),reverse=True))\n",
    "print(sorted_d)"
   ]
  },
  {
   "cell_type": "code",
   "execution_count": 124,
   "id": "f4cc20d1",
   "metadata": {},
   "outputs": [],
   "source": [
    "#NW_Candidates2=[]\n",
    "#for i in sorted_d:\n",
    "    #print(sorted_d[i])"
   ]
  },
  {
   "cell_type": "code",
   "execution_count": 125,
   "id": "5a16b8b5",
   "metadata": {},
   "outputs": [],
   "source": [
    "NW_Candidates2=[]\n",
    "for i in sorted_d:\n",
    "    if sorted_d[i] >= [0.85]:\n",
    "        NW_Candidates2.append(i)"
   ]
  },
  {
   "cell_type": "code",
   "execution_count": 126,
   "id": "5a9c1fad",
   "metadata": {},
   "outputs": [],
   "source": [
    "#sort the dictionary in descending way\n",
    "NW_Candidates=NW_Candidates2[:10]"
   ]
  },
  {
   "cell_type": "code",
   "execution_count": 127,
   "id": "128240ff",
   "metadata": {},
   "outputs": [
    {
     "name": "stdout",
     "output_type": "stream",
     "text": [
      "['How do I tell my parents I have a girlfriend?', 'How do find a good girlfriend?', 'What do message tell a girl when I want her to be my girlfriend?']\n"
     ]
    }
   ],
   "source": [
    "print(NW_Candidates)\n",
    "#print(len(NW_Candidates))"
   ]
  },
  {
   "cell_type": "code",
   "execution_count": null,
   "id": "45a33c2d",
   "metadata": {},
   "outputs": [],
   "source": []
  },
  {
   "cell_type": "code",
   "execution_count": 128,
   "id": "de776cce",
   "metadata": {},
   "outputs": [],
   "source": [
    "if not NW_Candidates:\n",
    "        print(\"Since we did not get any candidates(i.e list of possible questions) from our Cosine Similarity, therefore, the question is not duplicated \")"
   ]
  },
  {
   "cell_type": "markdown",
   "id": "4f5d07c5",
   "metadata": {},
   "source": [
    "# Two ways NW. This one character by chracter to get the best candidates possible out of 10"
   ]
  },
  {
   "cell_type": "code",
   "execution_count": 129,
   "id": "dd79e2bd",
   "metadata": {},
   "outputs": [],
   "source": [
    "#from Bio import pairwise2\n",
    "#from Bio.pairwise2 import format_alignment\n",
    "#for i in NW_Candidates:\n",
    "    #alignments = pairwise2.align.globalxx(query,i)\n",
    "    #print(format_alignment(*alignments[0]))"
   ]
  },
  {
   "cell_type": "code",
   "execution_count": 130,
   "id": "d545abb8",
   "metadata": {},
   "outputs": [
    {
     "name": "stdout",
     "output_type": "stream",
     "text": [
      "t-------------- How do I tell my parents I have a girlfriend?\n",
      "t-------------- How do find a good girlfriend?\n",
      "t-------------- What do message tell a girl when I want her to be my girlfriend?\n"
     ]
    }
   ],
   "source": [
    "from minineedle import needle, core\n",
    "\n",
    "R = {} # Dicitonary to Save query, target sentence, precent identity and the actual aligmnet\n",
    "for i in NW_Candidates:\n",
    "    print(\"t--------------\",i)\n",
    "    i.lower()\n",
    "    query.lower()\n",
    "    i.split()\n",
    "    query.split()\n",
    "    alignment = needle.NeedlemanWunsch(query,i)\n",
    "    x = alignment.get_identity()\n",
    "    y = alignment \n",
    "    R[i]=[x , query, i, y]"
   ]
  },
  {
   "cell_type": "code",
   "execution_count": 131,
   "id": "9a1f2078",
   "metadata": {},
   "outputs": [
    {
     "name": "stdout",
     "output_type": "stream",
     "text": [
      "Query:  How do I find a girlfriend \n",
      "\n",
      "Target Question: \n",
      " How do find a good girlfriend? \n",
      "\n",
      "Perecent Identity using NW: 75.0\n",
      "Alignment\n",
      " Alignment of Query and Target Sentence is:\n",
      "\tHow do I find a----- girlfriend-\n",
      "\tHow do-- find a good girlfriend?\n",
      "\n"
     ]
    }
   ],
   "source": [
    "if R:\n",
    "    max_value = max(R.values())\n",
    "    print('Query: ',query,'\\n')\n",
    "    print('Target Question: \\n',max_value[2],'\\n')\n",
    "    print('Perecent Identity using NW:',max_value[0])\n",
    "    print('Alignment\\n',max_value[3])\n",
    "else:\n",
    "    print(\"Your Needleman-Wunch is empty\")"
   ]
  },
  {
   "cell_type": "markdown",
   "id": "5c0f345e",
   "metadata": {},
   "source": [
    "# Finialize the Results and Possible Candidates"
   ]
  },
  {
   "cell_type": "code",
   "execution_count": 132,
   "id": "931e12d8",
   "metadata": {},
   "outputs": [
    {
     "name": "stdout",
     "output_type": "stream",
     "text": [
      "The question a user asked is:\n",
      "\n",
      "- How do I find a girlfriend \n",
      "\n",
      "*Your question was asked before, this is the best candidate(s) question we found:\n",
      "\n",
      "-  How do I tell my parents I have a girlfriend?\n",
      "-  How do find a good girlfriend?\n",
      "-  What do message tell a girl when I want her to be my girlfriend?\n",
      "\n",
      "According to our model we belive that the best candidate is:\n",
      "\n",
      "→ How do find a good girlfriend?\n"
     ]
    }
   ],
   "source": [
    "print('The question a user asked is:\\n')\n",
    "print(\"-\",query,\"\\n\")\n",
    "#If Cosine candidates is empty then this question is not duplicated\n",
    "#print(len(NW_Candidates))\n",
    "if not NW_Candidates:\n",
    "        print(\"Congratulations 🎉 🎊 🍾 🎈 your question has never been asked before\")        \n",
    "else:\n",
    "    print(\"*Your question was asked before, this is the best candidate(s) question we found:\\n\")\n",
    "    for i in NW_Candidates:\n",
    "        print(\"- \",i)\n",
    "    print(\"\\nAccording to our model we belive that the best candidate is:\\n\")\n",
    "    print(\"→\",max_value[2]) "
   ]
  }
 ],
 "metadata": {
  "kernelspec": {
   "display_name": "Python 3 (ipykernel)",
   "language": "python",
   "name": "python3"
  },
  "language_info": {
   "codemirror_mode": {
    "name": "ipython",
    "version": 3
   },
   "file_extension": ".py",
   "mimetype": "text/x-python",
   "name": "python",
   "nbconvert_exporter": "python",
   "pygments_lexer": "ipython3",
   "version": "3.9.7"
  }
 },
 "nbformat": 4,
 "nbformat_minor": 5
}
