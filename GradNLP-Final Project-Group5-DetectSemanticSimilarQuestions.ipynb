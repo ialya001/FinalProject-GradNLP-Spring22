{
 "cells": [
  {
   "cell_type": "code",
   "execution_count": 27,
   "id": "9d9ac387",
   "metadata": {},
   "outputs": [],
   "source": [
    "#Import necessarily libraries\n",
    "import numpy as np\n",
    "import pandas as pd\n",
    "import re\n",
    "import time\n",
    "from datasketch import MinHash, MinHashLSHForest"
   ]
  },
  {
   "cell_type": "code",
   "execution_count": 28,
   "id": "3ca1e364",
   "metadata": {},
   "outputs": [],
   "source": [
    "#Preprocess will split a string of text into individual tokens/shingles based on whitespace.\n",
    "def preprocess(text):\n",
    "    text = re.sub(r'[^\\w\\s]','',text)\n",
    "    tokens = text.lower()\n",
    "    tokens = tokens.split()\n",
    "    return tokens"
   ]
  },
  {
   "cell_type": "markdown",
   "id": "7f6c9f46",
   "metadata": {},
   "source": [
    "# First Layer Locallity Sensitive Hashing\n",
    "https://www.learndatasci.com/tutorials/building-recommendation-engine-locality-sensitive-hashing-lsh-python/"
   ]
  },
  {
   "cell_type": "code",
   "execution_count": 29,
   "id": "29a6e21b",
   "metadata": {},
   "outputs": [],
   "source": [
    "#Number of Permutations\n",
    "permutations = 100"
   ]
  },
  {
   "cell_type": "code",
   "execution_count": 30,
   "id": "2a2eccc3",
   "metadata": {},
   "outputs": [],
   "source": [
    "def get_forest(data, perms):\n",
    "    start_time = time.time()\n",
    "    \n",
    "    minhash = []\n",
    "    \n",
    "    for text in data['text']:\n",
    "        tokens = preprocess(text)\n",
    "        m = MinHash(num_perm=perms)\n",
    "        for s in tokens:\n",
    "            m.update(s.encode('utf8'))\n",
    "        minhash.append(m)\n",
    "        \n",
    "    forest = MinHashLSHForest(num_perm=perms)\n",
    "    \n",
    "    for i,m in enumerate(minhash):\n",
    "        forest.add(i,m)\n",
    "        \n",
    "    forest.index()\n",
    "    \n",
    "    print('It took %s seconds to build forest.' %(time.time()-start_time))\n",
    "    \n",
    "    return forest"
   ]
  },
  {
   "cell_type": "code",
   "execution_count": 31,
   "id": "0a8c2d22",
   "metadata": {},
   "outputs": [],
   "source": [
    "def predict(text, database, perms, num_results, forest):\n",
    "    start_time = time.time()\n",
    "    \n",
    "    tokens = preprocess(text)\n",
    "    m = MinHash(num_perm=perms)\n",
    "    for s in tokens:\n",
    "        m.update(s.encode('utf8'))\n",
    "        \n",
    "    idx_array = np.array(forest.query(m, num_results))\n",
    "    if len(idx_array) == 0:\n",
    "        return None # if your query is empty, return none\n",
    "    \n",
    "    result = database.iloc[idx_array]['question2']\n",
    "    \n",
    "    print('It took %s seconds to query forest.' %(time.time()-start_time))\n",
    "    \n",
    "    return result"
   ]
  },
  {
   "cell_type": "markdown",
   "id": "288ad73e",
   "metadata": {},
   "source": [
    "# Upload the Dataset"
   ]
  },
  {
   "cell_type": "code",
   "execution_count": 32,
   "id": "ae2c9b4d",
   "metadata": {},
   "outputs": [],
   "source": [
    "db = pd.read_csv('/Users/ibrahim/Desktop/CAP5640/FinalProject/Dataset/train.csv')#Please change this to your folder location\n",
    "db['text']= db['question2']\n",
    "#print(db)"
   ]
  },
  {
   "cell_type": "code",
   "execution_count": 33,
   "id": "05500e14",
   "metadata": {},
   "outputs": [],
   "source": [
    "db=db.head(404)#Read the number of rows you would like from the train dataset\n",
    "#print(db)404289"
   ]
  },
  {
   "cell_type": "code",
   "execution_count": 34,
   "id": "bd05e842",
   "metadata": {
    "scrolled": true
   },
   "outputs": [
    {
     "name": "stdout",
     "output_type": "stream",
     "text": [
      "It took 0.43367862701416016 seconds to build forest.\n"
     ]
    }
   ],
   "source": [
    "forest = get_forest(db, permutations)"
   ]
  },
  {
   "cell_type": "code",
   "execution_count": 35,
   "id": "7f1fa7c1",
   "metadata": {},
   "outputs": [
    {
     "name": "stdout",
     "output_type": "stream",
     "text": [
      "It took 0.02887105941772461 seconds to query forest.\n",
      "\n",
      " Top Recommendation(s) is(are) \n",
      " 8                  When do you use \"&\" instead of \"and\"?\n",
      "9      How do I hack Motorola DCX3400 for free internet?\n",
      "11                How can I see all my Youtube comments?\n",
      "24      How many times a day do a clock’s hands overlap?\n",
      "27              How do sports contribute to the society?\n",
      "                             ...                        \n",
      "372    How much and with what should I feed my 3 mont...\n",
      "377                 How can I maintain my peace of mind?\n",
      "383    How do you keep motivated when you learn a new...\n",
      "396    How do I start my continuation for the Gift of...\n",
      "400    How should I start contributing to open source...\n",
      "Name: question2, Length: 98, dtype: object\n"
     ]
    }
   ],
   "source": [
    "num_recommendations = 100 #We would like to get the best 100 candidates\n",
    "query = \"How do you get deleted Instagram chats?\"\n",
    "result = predict(query, db, permutations, num_recommendations, forest)\n",
    "print('\\n Top Recommendation(s) is(are) \\n', result)"
   ]
  },
  {
   "cell_type": "code",
   "execution_count": 36,
   "id": "22be0ba0",
   "metadata": {},
   "outputs": [],
   "source": [
    "#Create a list of candiates to be taken to the next layer which is Cosine Simialrity\n",
    "candidates=[]\n",
    "candidates=result.values"
   ]
  },
  {
   "cell_type": "code",
   "execution_count": 37,
   "id": "d01921d0",
   "metadata": {},
   "outputs": [
    {
     "name": "stdout",
     "output_type": "stream",
     "text": [
      "['When do you use \"&\" instead of \"and\"?'\n",
      " 'How do I hack Motorola DCX3400 for free internet?'\n",
      " 'How can I see all my Youtube comments?'\n",
      " 'How many times a day do a clock’s hands overlap?'\n",
      " 'How do sports contribute to the society?'\n",
      " \"What's one thing you do despite knowing better?\"\n",
      " 'How can I keep my nose from getting stuffy at night?'\n",
      " 'What Game of Thrones villain would you most like to be at the mercy of?'\n",
      " 'How is the average speed of gas molecules determined?'\n",
      " 'How do I prepare for civil service?'\n",
      " 'How can we increase our number of Instagram followers?'\n",
      " 'How to make friends ?'\n",
      " 'How is career launcher online program for RBI Grade B?'\n",
      " \"Do you apply for programs like RSI when you're a rising senior?\"\n",
      " 'How do I learn french genders?'\n",
      " 'What causes a dark ring around the iris? How should it be treated?'\n",
      " 'Why do I always get depressed in the evening?'\n",
      " 'How do I learn a computer language like java?'\n",
      " 'How can I learn to speak English fluently?'\n",
      " 'Who is the richest gambler of all time and how can I reach his level as a gambler?'\n",
      " 'How important is it to be the first person to wish someone a happy birthday?'\n",
      " 'I want to make a travel commercial/clip video HD , For India and New Zealand. How much will it cost?'\n",
      " 'National Institute of Technology Karnataka (NITK) , Surathkal: To the graduating batch: What lessons would you want to give to your juniors before you leave?'\n",
      " 'How could I get Skype to work on an android 4.1.1 phone?'\n",
      " 'How did Ronald Reagan react to 9/11?'\n",
      " 'How demonetisation could affect the GDP of India in both short run and long run?'\n",
      " 'How competitive is the hiring process at S & T Bank?'\n",
      " 'How do you think of Chinese food?'\n",
      " 'How do Winston and Julia differ in the novel \"1984\"? How are they similar?'\n",
      " 'How can I ask a question without getting marked as ‘need to improve’?'\n",
      " 'How can Vitamin C cause a miscarriage?'\n",
      " 'When will we get the Call Letter after we get the Letter of Intent in Asahi India Glass recruitment?'\n",
      " 'How do I access Google.com from India?'\n",
      " 'How do you register a .an domain?' 'How do I find a good escort?'\n",
      " 'In how many ways 12 apples can be distributed among 4 children such that every child gets at least 2 apples?'\n",
      " 'How much on average would it cost to video tape a 2 hour presentation?'\n",
      " 'How do you stop being afraid of everything?'\n",
      " 'At what age, how, and where did you lose your virginity?'\n",
      " 'How can I forget my wife?'\n",
      " 'How do you upload movies on YouTube and monetize them? Is there any issue of copyright'\n",
      " 'How does Quora look to a moderator?'\n",
      " 'How can I use Twitter for business?'\n",
      " 'How can I send money from my PayPal account to my Skrill account to withdraw?'\n",
      " 'There seems to be a difference between my weekly paycheck and the yearly salary my employer agreed upon, how does that work?'\n",
      " 'Who do you regard as the best actor, Robert De Niro or Al Pacino?'\n",
      " 'How can I view deleted Instagram dms?'\n",
      " 'How do I stop being addicted to someone?'\n",
      " 'How do startup accelerators give you the funding?'\n",
      " 'How do I refuse to chose between different things to do in my life?'\n",
      " 'How do I stop being over possessive for a person whom I love?'\n",
      " 'How do I take a screenshot on my MacBook Pro? What are some instructions?'\n",
      " 'How can I become fluent in chinese?'\n",
      " 'How can I get started to learn information security?'\n",
      " 'How can I find an IT job in Japan?'\n",
      " 'How many liters of water should I drink if I run 5kms daily?'\n",
      " 'How can I book Ronda Rousey to star in an adult movie?'\n",
      " 'How do I potty train my two-month-old Labrador pup?'\n",
      " 'The Flash (DC character): How fast can the Flash run a mile?'\n",
      " 'How can I best invest ₹5000 over the next 6 months?'\n",
      " 'What exactly is GST bill and how exactly will it affect the common people?'\n",
      " 'How do I get reliance digital store franchise?'\n",
      " 'How do you not get bad dreams?'\n",
      " 'How can I make my whole body more fair, if I am a wheatish Indian guy?'\n",
      " 'How can I get free gems Clash of Clans?'\n",
      " 'How do i get traffic for website?' 'How do people die?'\n",
      " 'How are cotton clothes made?'\n",
      " 'When a dead body is in a river, how long does it take before it floats?'\n",
      " 'How do I get over someone I loved now that we broke up last year and I still miss her?'\n",
      " 'How do I to make money online?'\n",
      " \"How successful was the Delhi's Odd-even plan?\"\n",
      " 'How can you reduce your fear of dying?'\n",
      " 'What is the price I have to pay for repairing a broken iPhone 6 screen? How can it be done?'\n",
      " 'How much money should I raise?'\n",
      " 'How should I start a small business in construction?'\n",
      " 'How can I become a billionaire (in finance)?'\n",
      " 'How can I learn about web design?'\n",
      " 'What is it like to be in a relationship with someone you cheated with?'\n",
      " 'How can I improve my concentration?'\n",
      " 'How can you personalize a LinkedIn invitation? I think I just sent a colleague an invitation on LinkedIn, but did not get a chance to personalize it!'\n",
      " \"How does the Earth's core affect its crust?\"\n",
      " 'How can I fake my iPhone location without jailbreaking?'\n",
      " 'How did you quit/stop smoking?'\n",
      " 'How do earthquake resistant buildings work?'\n",
      " 'How do I frame my time table for 4 months to crack Gate 2016?'\n",
      " 'How do I start business from nothing?'\n",
      " 'How can I keep my dog from getting fleas?'\n",
      " 'How do I transfer my contacts from one Android phone to another Android phone?'\n",
      " 'How racist are you?'\n",
      " 'How would you find the zero of the function for [math]y=\\\\frac{4x^2 - 36x}{ x-9}[/math]?'\n",
      " 'How can I write to Narendra Modi?' 'Would you live in a tiny house?'\n",
      " 'How much and with what should I feed my 3 months old raven?'\n",
      " 'How can I maintain my peace of mind?'\n",
      " 'How do you keep motivated when you learn a new language?'\n",
      " 'How do I start my continuation for the Gift of the Magi?'\n",
      " 'How should I start contributing to open source projects?']\n"
     ]
    }
   ],
   "source": [
    "print(candidates)"
   ]
  },
  {
   "cell_type": "markdown",
   "id": "52fb23f8",
   "metadata": {},
   "source": [
    "# Second Layer BERT Vectors+Cosine Similarity\n",
    "https://www.analyticsvidhya.com/blog/2020/08/top-4-sentence-embedding-techniques-using-python/"
   ]
  },
  {
   "cell_type": "code",
   "execution_count": 38,
   "id": "401ed70e",
   "metadata": {},
   "outputs": [],
   "source": [
    "#Tokenize the candidates to be used in Bert Vector model\n",
    "import nltk\n",
    "from nltk.tokenize import word_tokenize\n",
    "tokenized_sent = []\n",
    "for s in candidates:\n",
    "    tokenized_sent.append(word_tokenize(s.lower()))\n"
   ]
  },
  {
   "cell_type": "code",
   "execution_count": 39,
   "id": "0d651e97",
   "metadata": {},
   "outputs": [
    {
     "name": "stderr",
     "output_type": "stream",
     "text": [
      "[nltk_data] Downloading package punkt to /Users/ibrahim/nltk_data...\n",
      "[nltk_data]   Package punkt is already up-to-date!\n"
     ]
    }
   ],
   "source": [
    "import nltk\n",
    "nltk.download('punkt')\n",
    "from nltk.tokenize import word_tokenize\n",
    "import numpy as np"
   ]
  },
  {
   "cell_type": "code",
   "execution_count": 40,
   "id": "a772c276",
   "metadata": {},
   "outputs": [],
   "source": [
    "def cosine(u, v):#Cosine Similarity Calculation\n",
    "    return np.dot(u, v) / (np.linalg.norm(u) * np.linalg.norm(v))"
   ]
  },
  {
   "cell_type": "code",
   "execution_count": 41,
   "id": "a40f0205",
   "metadata": {},
   "outputs": [],
   "source": [
    "from sentence_transformers import SentenceTransformer #Vectorize the sentences using bert\n",
    "sbert_model = SentenceTransformer('bert-base-nli-mean-tokens')"
   ]
  },
  {
   "cell_type": "code",
   "execution_count": 42,
   "id": "bb8a827a",
   "metadata": {},
   "outputs": [],
   "source": [
    "sentence_embeddings = sbert_model.encode(candidates)\n",
    "\n",
    "#print('Sample BERT embedding vector - length', len(sentence_embeddings[0]))\n",
    "#print('Sample BERT embedding vector - note includes negative values', sentence_embeddings[0])\n"
   ]
  },
  {
   "cell_type": "code",
   "execution_count": 43,
   "id": "a47af791",
   "metadata": {},
   "outputs": [],
   "source": [
    "query_vec = sbert_model.encode([query])[0]#Vectorize the query using bert "
   ]
  },
  {
   "cell_type": "code",
   "execution_count": 44,
   "id": "023deab3",
   "metadata": {},
   "outputs": [],
   "source": [
    "Cosine_Candidates={} #This dicitonary to get the candidates and thier cosine similarity\n",
    "for sent in candidates:\n",
    "    sim = cosine(query_vec, sbert_model.encode([sent])[0])\n",
    "    #print(\"Sentence = \", sent, \"; similarity = \", sim)\n",
    "    Cosine_Candidates[sent]=[sim]"
   ]
  },
  {
   "cell_type": "code",
   "execution_count": 45,
   "id": "56ffa99d",
   "metadata": {
    "scrolled": true
   },
   "outputs": [
    {
     "name": "stdout",
     "output_type": "stream",
     "text": [
      "{'How can I view deleted Instagram dms?': [0.93790865], 'How can I use Twitter for business?': [0.7080941], 'How can you personalize a LinkedIn invitation? I think I just sent a colleague an invitation on LinkedIn, but did not get a chance to personalize it!': [0.70085114], 'How can I send money from my PayPal account to my Skrill account to withdraw?': [0.686579], 'How can I fake my iPhone location without jailbreaking?': [0.64687955], 'How do i get traffic for website?': [0.64654213], 'How do I to make money online?': [0.6344815], 'How do I hack Motorola DCX3400 for free internet?': [0.61359954], 'How can I see all my Youtube comments?': [0.5984082], 'How do you upload movies on YouTube and monetize them? Is there any issue of copyright': [0.58914936], 'How did you quit/stop smoking?': [0.5883077], 'How can we increase our number of Instagram followers?': [0.5585286], 'How do people die?': [0.5452478], 'How do I access Google.com from India?': [0.54258394], 'What exactly is GST bill and how exactly will it affect the common people?': [0.5381795], 'How do I start business from nothing?': [0.5342352], 'How do I transfer my contacts from one Android phone to another Android phone?': [0.5331091], 'What is the price I have to pay for repairing a broken iPhone 6 screen? How can it be done?': [0.52533996], 'How could I get Skype to work on an android 4.1.1 phone?': [0.51570004], 'How can I learn about web design?': [0.51516855], 'At what age, how, and where did you lose your virginity?': [0.5126022], 'How do I get reliance digital store franchise?': [0.50736624], 'How can I get started to learn information security?': [0.50144935], 'How is career launcher online program for RBI Grade B?': [0.46926144], 'How demonetisation could affect the GDP of India in both short run and long run?': [0.4667339], 'How can Vitamin C cause a miscarriage?': [0.46436408], 'How do I stop being addicted to someone?': [0.46273422], 'What is it like to be in a relationship with someone you cheated with?': [0.45324633], 'How does Quora look to a moderator?': [0.45177972], 'How can I ask a question without getting marked as ‘need to improve’?': [0.45063812], 'How do you register a .an domain?': [0.4500282], 'How do I take a screenshot on my MacBook Pro? What are some instructions?': [0.44889075], 'How can I find an IT job in Japan?': [0.44838738], 'How can you reduce your fear of dying?': [0.448063], 'How can I write to Narendra Modi?': [0.4476496], 'How can I get free gems Clash of Clans?': [0.44729614], 'How can I forget my wife?': [0.44591296], 'How do you stop being afraid of everything?': [0.4458189], 'When do you use \"&\" instead of \"and\"?': [0.44415516], 'What causes a dark ring around the iris? How should it be treated?': [0.4406482], 'When will we get the Call Letter after we get the Letter of Intent in Asahi India Glass recruitment?': [0.4403405], 'How should I start contributing to open source projects?': [0.43298], 'How would you find the zero of the function for [math]y=\\\\frac{4x^2 - 36x}{ x-9}[/math]?': [0.43055096], 'How do Winston and Julia differ in the novel \"1984\"? How are they similar?': [0.43017346], 'How can I book Ronda Rousey to star in an adult movie?': [0.4297963], 'How much on average would it cost to video tape a 2 hour presentation?': [0.42889932], 'When a dead body is in a river, how long does it take before it floats?': [0.42784733], 'How do I refuse to chose between different things to do in my life?': [0.4165493], 'How do I frame my time table for 4 months to crack Gate 2016?': [0.4149745], 'What Game of Thrones villain would you most like to be at the mercy of?': [0.40046808], 'How do I get over someone I loved now that we broke up last year and I still miss her?': [0.3917575], 'How did Ronald Reagan react to 9/11?': [0.39149088], 'How do startup accelerators give you the funding?': [0.3909475], 'I want to make a travel commercial/clip video HD , For India and New Zealand. How much will it cost?': [0.38843274], 'How can I keep my dog from getting fleas?': [0.37904653], 'How do I learn a computer language like java?': [0.37485018], 'How racist are you?': [0.3733714], 'How do I start my continuation for the Gift of the Magi?': [0.36777362], 'How should I start a small business in construction?': [0.36537412], 'How can I become fluent in chinese?': [0.3624161], 'How competitive is the hiring process at S & T Bank?': [0.36189613], 'How do you think of Chinese food?': [0.3569459], 'How can I keep my nose from getting stuffy at night?': [0.35586646], 'How to make friends ?': [0.3550555], 'How do you not get bad dreams?': [0.34954518], 'National Institute of Technology Karnataka (NITK) , Surathkal: To the graduating batch: What lessons would you want to give to your juniors before you leave?': [0.3380183], 'Why do I always get depressed in the evening?': [0.336359], 'How can I become a billionaire (in finance)?': [0.3361959], 'How much and with what should I feed my 3 months old raven?': [0.33200666], 'How do I prepare for civil service?': [0.32817268], 'How do I stop being over possessive for a person whom I love?': [0.32657182], 'How do I find a good escort?': [0.3240946], 'How do I learn french genders?': [0.3233403], 'How do sports contribute to the society?': [0.32058424], \"What's one thing you do despite knowing better?\": [0.3186318], 'There seems to be a difference between my weekly paycheck and the yearly salary my employer agreed upon, how does that work?': [0.31851402], 'How do you keep motivated when you learn a new language?': [0.31663373], 'How can I maintain my peace of mind?': [0.31610128], 'The Flash (DC character): How fast can the Flash run a mile?': [0.31593034], 'How many liters of water should I drink if I run 5kms daily?': [0.31266972], 'How can I learn to speak English fluently?': [0.31071642], 'Would you live in a tiny house?': [0.3089503], 'How important is it to be the first person to wish someone a happy birthday?': [0.30068505], 'How can I best invest ₹5000 over the next 6 months?': [0.29985914], 'How do earthquake resistant buildings work?': [0.2981566], \"Do you apply for programs like RSI when you're a rising senior?\": [0.2969372], 'How is the average speed of gas molecules determined?': [0.2915545], 'How can I improve my concentration?': [0.28464633], \"How does the Earth's core affect its crust?\": [0.2811116], 'How much money should I raise?': [0.2808366], 'Who is the richest gambler of all time and how can I reach his level as a gambler?': [0.27011457], 'How many times a day do a clock’s hands overlap?': [0.26533705], \"How successful was the Delhi's Odd-even plan?\": [0.26334766], 'How do I potty train my two-month-old Labrador pup?': [0.24799891], 'How can I make my whole body more fair, if I am a wheatish Indian guy?': [0.24487959], 'In how many ways 12 apples can be distributed among 4 children such that every child gets at least 2 apples?': [0.21952966], 'How are cotton clothes made?': [0.17008978], 'Who do you regard as the best actor, Robert De Niro or Al Pacino?': [0.15297836]}\n"
     ]
    }
   ],
   "source": [
    "import operator#To sort the candidates from the highest to the lowest\n",
    "sorted_d = dict(sorted(Cosine_Candidates.items(), key=operator.itemgetter(1),reverse=True))\n",
    "print(sorted_d)"
   ]
  },
  {
   "cell_type": "code",
   "execution_count": 46,
   "id": "5a16b8b5",
   "metadata": {},
   "outputs": [],
   "source": [
    "NW_Candidates2=[] #The questions that has 85% similarity only\n",
    "for i in sorted_d:\n",
    "    if sorted_d[i] >= [0.85]:\n",
    "        NW_Candidates2.append(i)"
   ]
  },
  {
   "cell_type": "code",
   "execution_count": 47,
   "id": "5a9c1fad",
   "metadata": {},
   "outputs": [],
   "source": [
    "#sort the dictionary in descending way and get the best 10 possible similar questions\n",
    "NW_Candidates=NW_Candidates2[:10]"
   ]
  },
  {
   "cell_type": "code",
   "execution_count": 48,
   "id": "128240ff",
   "metadata": {},
   "outputs": [
    {
     "name": "stdout",
     "output_type": "stream",
     "text": [
      "['How can I view deleted Instagram dms?']\n"
     ]
    }
   ],
   "source": [
    "print(NW_Candidates)\n",
    "#print(len(NW_Candidates))"
   ]
  },
  {
   "cell_type": "code",
   "execution_count": 49,
   "id": "ae4e176a",
   "metadata": {},
   "outputs": [],
   "source": [
    "if not NW_Candidates: #To check if there is no similar question detected after Cosine layer\n",
    "        print(\"Since we did not get any candidates(i.e list of possible questions) from our Cosine Similarity, therefore, the question is not duplicated \")"
   ]
  },
  {
   "cell_type": "markdown",
   "id": "4f5d07c5",
   "metadata": {},
   "source": [
    "# Third Layer - Needleman-Wunch Algorith \n",
    "https://github.com/scastlara/minineedle"
   ]
  },
  {
   "cell_type": "code",
   "execution_count": 50,
   "id": "d545abb8",
   "metadata": {},
   "outputs": [
    {
     "name": "stdout",
     "output_type": "stream",
     "text": [
      "-------------- How can I view deleted Instagram dms?\n"
     ]
    }
   ],
   "source": [
    "from minineedle import needle, core\n",
    "\n",
    "R = {} # Dicitonary to Save query, target sentence, precent identity and the actual aligmnet\n",
    "for i in NW_Candidates:\n",
    "    print(\"--------------\",i)\n",
    "    i.lower()\n",
    "    query.lower()\n",
    "    i.split()\n",
    "    query.split()\n",
    "    alignment = needle.NeedlemanWunsch(query,i)\n",
    "    x = alignment.get_identity()\n",
    "    y = alignment \n",
    "    R[i]=[x , query, i, y]"
   ]
  },
  {
   "cell_type": "code",
   "execution_count": 51,
   "id": "0da15001",
   "metadata": {},
   "outputs": [
    {
     "name": "stdout",
     "output_type": "stream",
     "text": [
      "Query:  How do you get deleted Instagram chats? \n",
      "\n",
      "Target Question: \n",
      " How can I view deleted Instagram dms? \n",
      "\n",
      "Perecent Identity using Needleman-Wunch Algorithm: 68.29\n",
      "Alignment of Query and Target Sentence is:\n",
      "\tHow -do you -get deleted Instagram chats?\n",
      "\tHow can --I view deleted Instagram --dms?\n",
      "\n"
     ]
    }
   ],
   "source": [
    "if R:\n",
    "    max_value = max(R.values())\n",
    "    print('Query: ',query,'\\n')\n",
    "    print('Target Question: \\n',max_value[2],'\\n')\n",
    "    print('Perecent Identity using Needleman-Wunch Algorithm:',max_value[0])\n",
    "    print(max_value[3])\n",
    "else:\n",
    "    print(\"Your Needleman-Wunch is empty\")"
   ]
  },
  {
   "cell_type": "markdown",
   "id": "3a0cf78e",
   "metadata": {},
   "source": [
    "# Finialize the Results and Possible Candidates if found"
   ]
  },
  {
   "cell_type": "code",
   "execution_count": 53,
   "id": "931e12d8",
   "metadata": {},
   "outputs": [
    {
     "name": "stdout",
     "output_type": "stream",
     "text": [
      "The question a user asked is:\n",
      "\n",
      "- How do you get deleted Instagram chats? \n",
      "\n",
      "*Your question was asked before, this is the best candidate(s) question we found:\n",
      "\n",
      "-  How can I view deleted Instagram dms?\n",
      "\n",
      "According to our model we belive that the best candidate is:\n",
      "\n",
      "→ How can I view deleted Instagram dms?\n"
     ]
    }
   ],
   "source": [
    "print('The question a user asked is:\\n')\n",
    "print(\"-\",query,\"\\n\")\n",
    "#If Cosine candidates is empty then this question is not duplicated\n",
    "#print(len(NW_Candidates))\n",
    "if not NW_Candidates:\n",
    "        print(\"Congratulations 🎉 🎊 🍾 🎈 your question has never been asked before\")        \n",
    "else:\n",
    "    print(\"*Your question was asked before, this is the best candidate(s) question we found:\\n\")\n",
    "    for i in NW_Candidates:\n",
    "        print(\"- \",i)\n",
    "    print(\"\\nAccording to our model we belive that the best candidate is:\\n\")\n",
    "    print(\"→\",max_value[2]) "
   ]
  },
  {
   "cell_type": "code",
   "execution_count": null,
   "id": "d57268f1",
   "metadata": {},
   "outputs": [],
   "source": []
  }
 ],
 "metadata": {
  "kernelspec": {
   "display_name": "Python 3 (ipykernel)",
   "language": "python",
   "name": "python3"
  },
  "language_info": {
   "codemirror_mode": {
    "name": "ipython",
    "version": 3
   },
   "file_extension": ".py",
   "mimetype": "text/x-python",
   "name": "python",
   "nbconvert_exporter": "python",
   "pygments_lexer": "ipython3",
   "version": "3.9.7"
  }
 },
 "nbformat": 4,
 "nbformat_minor": 5
}
