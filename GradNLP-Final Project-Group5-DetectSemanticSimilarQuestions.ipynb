{
 "cells": [
  {
   "cell_type": "code",
   "execution_count": 84,
   "id": "9d9ac387",
   "metadata": {},
   "outputs": [],
   "source": [
    "#Import necessarily libraries\n",
    "import numpy as np\n",
    "import pandas as pd\n",
    "import re\n",
    "import time\n",
    "from datasketch import MinHash, MinHashLSHForest"
   ]
  },
  {
   "cell_type": "code",
   "execution_count": 55,
   "id": "3ca1e364",
   "metadata": {},
   "outputs": [],
   "source": [
    "#Preprocess will split a string of text into individual tokens/shingles based on whitespace.\n",
    "def preprocess(text):\n",
    "    text = re.sub(r'[^\\w\\s]','',text)\n",
    "    tokens = text.lower()\n",
    "    tokens = tokens.split()\n",
    "    return tokens"
   ]
  },
  {
   "cell_type": "markdown",
   "id": "50f6b41c",
   "metadata": {},
   "source": [
    "# First Layer Locallity Sensitive Hashing\n",
    "https://www.learndatasci.com/tutorials/building-recommendation-engine-locality-sensitive-hashing-lsh-python/"
   ]
  },
  {
   "cell_type": "code",
   "execution_count": 56,
   "id": "29a6e21b",
   "metadata": {},
   "outputs": [],
   "source": [
    "#Number of Permutations\n",
    "permutations = 100"
   ]
  },
  {
   "cell_type": "code",
   "execution_count": 57,
   "id": "2a2eccc3",
   "metadata": {},
   "outputs": [],
   "source": [
    "def get_forest(data, perms):\n",
    "    start_time = time.time()\n",
    "    \n",
    "    minhash = []\n",
    "    \n",
    "    for text in data['text']:\n",
    "        tokens = preprocess(text)\n",
    "        m = MinHash(num_perm=perms)\n",
    "        for s in tokens:\n",
    "            m.update(s.encode('utf8'))\n",
    "        minhash.append(m)\n",
    "        \n",
    "    forest = MinHashLSHForest(num_perm=perms)\n",
    "    \n",
    "    for i,m in enumerate(minhash):\n",
    "        forest.add(i,m)\n",
    "        \n",
    "    forest.index()\n",
    "    \n",
    "    print('It took %s seconds to build forest.' %(time.time()-start_time))\n",
    "    \n",
    "    return forest"
   ]
  },
  {
   "cell_type": "code",
   "execution_count": 58,
   "id": "0a8c2d22",
   "metadata": {},
   "outputs": [],
   "source": [
    "def predict(text, database, perms, num_results, forest):\n",
    "    start_time = time.time()\n",
    "    \n",
    "    tokens = preprocess(text)\n",
    "    m = MinHash(num_perm=perms)\n",
    "    for s in tokens:\n",
    "        m.update(s.encode('utf8'))\n",
    "        \n",
    "    idx_array = np.array(forest.query(m, num_results))\n",
    "    if len(idx_array) == 0:\n",
    "        return None # if your query is empty, return none\n",
    "    \n",
    "    result = database.iloc[idx_array]['question2']\n",
    "    \n",
    "    print('It took %s seconds to query forest.' %(time.time()-start_time))\n",
    "    \n",
    "    return result"
   ]
  },
  {
   "cell_type": "markdown",
   "id": "1f2c56a5",
   "metadata": {},
   "source": [
    "# Upload the Dataset"
   ]
  },
  {
   "cell_type": "code",
   "execution_count": 59,
   "id": "ae2c9b4d",
   "metadata": {},
   "outputs": [],
   "source": [
    "db = pd.read_csv('/Users/ibrahim/Desktop/CAP5640/FinalProject/Dataset/train.csv')\n",
    "db['text']= db['question2']\n",
    "#print(db)"
   ]
  },
  {
   "cell_type": "code",
   "execution_count": 60,
   "id": "05500e14",
   "metadata": {},
   "outputs": [],
   "source": [
    "db=db.head(404289)#Read the number of rows you would like from the train dataset\n",
    "#print(db)404289"
   ]
  },
  {
   "cell_type": "code",
   "execution_count": 61,
   "id": "bd05e842",
   "metadata": {
    "scrolled": true
   },
   "outputs": [
    {
     "name": "stdout",
     "output_type": "stream",
     "text": [
      "It took 0.4823291301727295 seconds to build forest.\n"
     ]
    }
   ],
   "source": [
    "forest = get_forest(db, permutations)"
   ]
  },
  {
   "cell_type": "code",
   "execution_count": 62,
   "id": "7f1fa7c1",
   "metadata": {},
   "outputs": [
    {
     "name": "stdout",
     "output_type": "stream",
     "text": [
      "It took 0.032591819763183594 seconds to query forest.\n",
      "\n",
      " Top Recommendation(s) is(are) \n",
      " 384    Which are the top firms in Skills assessment i...\n",
      "257    What are some of the best YouTube channels for...\n",
      "3      Find the remainder when [math]23^{24}[/math] i...\n",
      "260    What are the pros and cons of the Common Core ...\n",
      "5      I'm a triple Capricorn (Sun, Moon and ascendan...\n",
      "6      What keeps childern active and far from phone ...\n",
      "389    What is the office culture and woking at Patan...\n",
      "8                  When do you use \"&\" instead of \"and\"?\n",
      "393    Why do people hate Shahrukh Khan and why do pe...\n",
      "138    If I shave my head for 2 years as am getting b...\n",
      "11                How can I see all my Youtube comments?\n",
      "141                         How do I find a good escort?\n",
      "398    I'm a girl in middle school. My best friends a...\n",
      "272    Should I be worried that my girlfriend texts h...\n",
      "23     Where can I find a conversion chart for CC to ...\n",
      "156    How do you upload movies on YouTube and moneti...\n",
      "285    Where can I find delicious cupcakes at Gold Co...\n",
      "294    What do you people think of Mr. Arvind Kejriwa...\n",
      "296    How do concentric and eccentric contraction co...\n",
      "172    How can I speak with more clarity and confidence?\n",
      "301    What are time deposits? Are RD and FD types of...\n",
      "309           How and why did you break up with your ex?\n",
      "53     What is the most delicious dish you've ever ea...\n",
      "56     Is my boyfriend lying about his true feelings ...\n",
      "185    What was the significance of the battle of Som...\n",
      "64        Where do I find a U.S. family office database?\n",
      "326    What is the most delicious dish you've ever ea...\n",
      "74     Who is the richest gambler of all time and how...\n",
      "75     Do bullets travel faster than the speed of sou...\n",
      "204    Why is it always expected that a woman should ...\n",
      "331    What are the pros and cons of having a pet Ger...\n",
      "337    Should a guy re-evaluate his current relations...\n",
      "82     I want to make a travel commercial/clip video ...\n",
      "86     What were the major effects of the cambodia ea...\n",
      "90     Which book should I choose for reference for p...\n",
      "222                   How can I find an IT job in Japan?\n",
      "375    I'm a girl and I'm in love my best friend (who...\n",
      "223    What is the best home wireless network setup a...\n",
      "226    How do I create a new Terminal and new shell i...\n",
      "232    Where does the water from the Great Lakes come...\n",
      "105    How demonetisation could affect the GDP of Ind...\n",
      "362    How would you find the zero of the function fo...\n",
      "235    Why do we care for others' opinion and about w...\n",
      "242    In \"A Raisin in the Sun\", why do Walter and Be...\n",
      "116    Why do teen girls (and women in general) allow...\n",
      "373    What should I do to avoid depression and anxiety?\n",
      "117    How do Winston and Julia differ in the novel \"...\n",
      "245    What are the good ways to write and publish a ...\n",
      "372    How much and with what should I feed my 3 mont...\n",
      "249    What exactly is GST bill and how exactly will ...\n",
      "379    What are the causes and most effective ways to...\n",
      "380    What is the brief comparison of KMC in Manipal...\n",
      "Name: question2, dtype: object\n"
     ]
    }
   ],
   "source": [
    "num_recommendations = 100 #We would like to get the best 100 candidates\n",
    "query = \"How do I read and find my YouTube comments?\"\n",
    "result = predict(query, db, permutations, num_recommendations, forest)\n",
    "print('\\n Top Recommendation(s) is(are) \\n', result)"
   ]
  },
  {
   "cell_type": "code",
   "execution_count": 63,
   "id": "22be0ba0",
   "metadata": {},
   "outputs": [],
   "source": [
    "#Create a list of candiates to be taken to the next layer which is Cosine Simialrity\n",
    "candidates=[]\n",
    "candidates=result.values"
   ]
  },
  {
   "cell_type": "code",
   "execution_count": 64,
   "id": "d01921d0",
   "metadata": {},
   "outputs": [
    {
     "name": "stdout",
     "output_type": "stream",
     "text": [
      "['Which are the top firms in Skills assessment industry in India and Globally?'\n",
      " 'What are some of the best YouTube channels for learning Git?'\n",
      " 'Find the remainder when [math]23^{24}[/math] is divided by 24,23?'\n",
      " 'What are the pros and cons of the Common Core Standards Initiative?'\n",
      " \"I'm a triple Capricorn (Sun, Moon and ascendant in Capricorn) What does this say about me?\"\n",
      " 'What keeps childern active and far from phone and video games?'\n",
      " 'What is the office culture and woking at Patanjali office, haridwar?'\n",
      " 'When do you use \"&\" instead of \"and\"?'\n",
      " 'Why do people hate Shahrukh Khan and why do people feel that he is not an Indian?'\n",
      " 'If I shave my head for 2 years as am getting bald and then grew my hair, will the hair will be same as when I intially have? Or I loose more hair?'\n",
      " 'How can I see all my Youtube comments?' 'How do I find a good escort?'\n",
      " \"I'm a girl in middle school. My best friends are all girls. I've found out that I'm bisexual. How do I tell my best friend who's a girl without her freaking out and it changing our whole friendship?\"\n",
      " 'Should I be worried that my girlfriend texts her ex-boyfriend till 4 a.m., and if so, why?'\n",
      " 'Where can I find a conversion chart for CC to horsepower?'\n",
      " 'How do you upload movies on YouTube and monetize them? Is there any issue of copyright'\n",
      " 'Where can I find delicious cupcakes at Gold Coast?'\n",
      " 'What do you people think of Mr. Arvind Kejriwal and his AAP?'\n",
      " 'How do concentric and eccentric contraction compare and contrast?'\n",
      " 'How can I speak with more clarity and confidence?'\n",
      " 'What are time deposits? Are RD and FD types of time deposits?'\n",
      " 'How and why did you break up with your ex?'\n",
      " \"What is the most delicious dish you've ever eaten and why?\"\n",
      " 'Is my boyfriend lying about his true feelings for his friend and is he secretly attracted to her?'\n",
      " 'What was the significance of the battle of Somme, and how did this battle compare and contrast to the Battle of Riyadh?'\n",
      " 'Where do I find a U.S. family office database?'\n",
      " \"What is the most delicious dish you've ever eaten and why?\"\n",
      " 'Who is the richest gambler of all time and how can I reach his level as a gambler?'\n",
      " 'Do bullets travel faster than the speed of sound when shot from a gun? If not, is it possible? If they do, what gun and how much devastation occurs?'\n",
      " 'Why is it always expected that a woman should take care of housework, children and cooking (especially in Indian culture)? Are these activities the responsibility of women alone? Why do men not share equally in such work?'\n",
      " 'What are the pros and cons of having a pet German Shepherd?'\n",
      " \"Should a guy re-evaluate his current relationship and feelings if he's worried about temptation hanging out with a girl that he was friends with?\"\n",
      " 'I want to make a travel commercial/clip video HD , For India and New Zealand. How much will it cost?'\n",
      " 'What were the major effects of the cambodia earthquake, and how do these effects compare to the Valparaiso earthquake in 1822?'\n",
      " 'Which book should I choose for reference for physics and chemistry (class 11, CBSE board)?'\n",
      " 'How can I find an IT job in Japan?'\n",
      " \"I'm a girl and I'm in love my best friend (who is also a girl), what should I do?\"\n",
      " 'What is the best home wireless network setup and expected speeds?'\n",
      " 'How do I create a new Terminal and new shell in Linux using C programming?'\n",
      " 'Where does the water from the Great Lakes come from, and how does these lakes wildlife compare to Lake Como?'\n",
      " 'How demonetisation could affect the GDP of India in both short run and long run?'\n",
      " 'How would you find the zero of the function for [math]y=\\\\frac{4x^2 - 36x}{ x-9}[/math]?'\n",
      " \"Why do we care for others' opinion and about what others think about us?\"\n",
      " 'In \"A Raisin in the Sun\", why do Walter and Beneatha argue?'\n",
      " 'Why do teen girls (and women in general) allow their boyfriends to take naked pictures of them in this day and (digital) age?'\n",
      " 'What should I do to avoid depression and anxiety?'\n",
      " 'How do Winston and Julia differ in the novel \"1984\"? How are they similar?'\n",
      " 'What are the good ways to write and publish a book?'\n",
      " 'How much and with what should I feed my 3 months old raven?'\n",
      " 'What exactly is GST bill and how exactly will it affect the common people?'\n",
      " 'What are the causes and most effective ways to treat or cure migraine headaches?'\n",
      " 'What is the brief comparison of KMC in Manipal and Mangalore?']\n"
     ]
    }
   ],
   "source": [
    "print(candidates)"
   ]
  },
  {
   "cell_type": "markdown",
   "id": "52fb23f8",
   "metadata": {},
   "source": [
    "# Second Layer BERT Vectors+Cosine Similarity\n",
    "https://www.analyticsvidhya.com/blog/2020/08/top-4-sentence-embedding-techniques-using-python/"
   ]
  },
  {
   "cell_type": "code",
   "execution_count": 80,
   "id": "401ed70e",
   "metadata": {},
   "outputs": [],
   "source": [
    "#Tokenize the candidates to be used in Bert Vector model\n",
    "import nltk\n",
    "from nltk.tokenize import word_tokenize\n",
    "tokenized_sent = []\n",
    "for s in candidates:\n",
    "    tokenized_sent.append(word_tokenize(s.lower()))\n"
   ]
  },
  {
   "cell_type": "code",
   "execution_count": 66,
   "id": "0d651e97",
   "metadata": {},
   "outputs": [
    {
     "name": "stderr",
     "output_type": "stream",
     "text": [
      "[nltk_data] Downloading package punkt to /Users/ibrahim/nltk_data...\n",
      "[nltk_data]   Package punkt is already up-to-date!\n"
     ]
    }
   ],
   "source": [
    "import nltk\n",
    "nltk.download('punkt')\n",
    "from nltk.tokenize import word_tokenize\n",
    "import numpy as np"
   ]
  },
  {
   "cell_type": "code",
   "execution_count": 67,
   "id": "a772c276",
   "metadata": {},
   "outputs": [],
   "source": [
    "def cosine(u, v):#Cosine Similarity Calculation\n",
    "    return np.dot(u, v) / (np.linalg.norm(u) * np.linalg.norm(v))"
   ]
  },
  {
   "cell_type": "code",
   "execution_count": 68,
   "id": "a40f0205",
   "metadata": {},
   "outputs": [],
   "source": [
    "from sentence_transformers import SentenceTransformer #Vectorize the sentences using bert\n",
    "sbert_model = SentenceTransformer('bert-base-nli-mean-tokens')"
   ]
  },
  {
   "cell_type": "code",
   "execution_count": 69,
   "id": "bb8a827a",
   "metadata": {},
   "outputs": [],
   "source": [
    "sentence_embeddings = sbert_model.encode(candidates)\n",
    "\n",
    "#print('Sample BERT embedding vector - length', len(sentence_embeddings[0]))\n",
    "#print('Sample BERT embedding vector - note includes negative values', sentence_embeddings[0])\n"
   ]
  },
  {
   "cell_type": "code",
   "execution_count": 70,
   "id": "a47af791",
   "metadata": {},
   "outputs": [],
   "source": [
    "query_vec = sbert_model.encode([query])[0]#Vectorize the query using bert "
   ]
  },
  {
   "cell_type": "code",
   "execution_count": 71,
   "id": "023deab3",
   "metadata": {},
   "outputs": [],
   "source": [
    "Cosine_Candidates={} #This dicitonary to get the candidates and thier cosine similarity\n",
    "for sent in candidates:\n",
    "    sim = cosine(query_vec, sbert_model.encode([sent])[0])\n",
    "    #print(\"Sentence = \", sent, \"; similarity = \", sim)\n",
    "    Cosine_Candidates[sent]=[sim]"
   ]
  },
  {
   "cell_type": "code",
   "execution_count": 72,
   "id": "56ffa99d",
   "metadata": {
    "scrolled": true
   },
   "outputs": [
    {
     "name": "stdout",
     "output_type": "stream",
     "text": [
      "{'How can I see all my Youtube comments?': [0.888962], 'What are some of the best YouTube channels for learning Git?': [0.7320754], 'How do you upload movies on YouTube and monetize them? Is there any issue of copyright': [0.7309624], 'I want to make a travel commercial/clip video HD , For India and New Zealand. How much will it cost?': [0.420727], 'How do I create a new Terminal and new shell in Linux using C programming?': [0.40733734], \"Why do we care for others' opinion and about what others think about us?\": [0.40668565], 'Where can I find a conversion chart for CC to horsepower?': [0.4066453], 'How do I find a good escort?': [0.4049786], 'What do you people think of Mr. Arvind Kejriwal and his AAP?': [0.40172026], 'Where do I find a U.S. family office database?': [0.40169924], 'What is the best home wireless network setup and expected speeds?': [0.4015491], 'How can I find an IT job in Japan?': [0.38063022], \"Should a guy re-evaluate his current relationship and feelings if he's worried about temptation hanging out with a girl that he was friends with?\": [0.378174], 'What are the good ways to write and publish a book?': [0.37239107], 'What is the brief comparison of KMC in Manipal and Mangalore?': [0.36837214], 'Which book should I choose for reference for physics and chemistry (class 11, CBSE board)?': [0.36173448], \"I'm a girl in middle school. My best friends are all girls. I've found out that I'm bisexual. How do I tell my best friend who's a girl without her freaking out and it changing our whole friendship?\": [0.3452271], 'Where can I find delicious cupcakes at Gold Coast?': [0.34273544], 'What should I do to avoid depression and anxiety?': [0.33781785], 'What is the office culture and woking at Patanjali office, haridwar?': [0.32328427], 'What exactly is GST bill and how exactly will it affect the common people?': [0.3216737], 'If I shave my head for 2 years as am getting bald and then grew my hair, will the hair will be same as when I intially have? Or I loose more hair?': [0.3151103], 'When do you use \"&\" instead of \"and\"?': [0.31311345], 'Should I be worried that my girlfriend texts her ex-boyfriend till 4 a.m., and if so, why?': [0.30767712], 'What are the pros and cons of the Common Core Standards Initiative?': [0.30310687], \"I'm a girl and I'm in love my best friend (who is also a girl), what should I do?\": [0.28867006], 'In \"A Raisin in the Sun\", why do Walter and Beneatha argue?': [0.28675923], 'How can I speak with more clarity and confidence?': [0.28538573], 'Where does the water from the Great Lakes come from, and how does these lakes wildlife compare to Lake Como?': [0.28395715], 'Find the remainder when [math]23^{24}[/math] is divided by 24,23?': [0.28312686], 'What are the causes and most effective ways to treat or cure migraine headaches?': [0.27916533], 'Is my boyfriend lying about his true feelings for his friend and is he secretly attracted to her?': [0.27109447], 'Why do teen girls (and women in general) allow their boyfriends to take naked pictures of them in this day and (digital) age?': [0.2703572], 'Which are the top firms in Skills assessment industry in India and Globally?': [0.2623162], 'What keeps childern active and far from phone and video games?': [0.2603557], 'How and why did you break up with your ex?': [0.25619438], 'How would you find the zero of the function for [math]y=\\\\frac{4x^2 - 36x}{ x-9}[/math]?': [0.25273785], 'How demonetisation could affect the GDP of India in both short run and long run?': [0.2524649], 'How do Winston and Julia differ in the novel \"1984\"? How are they similar?': [0.2466135], 'What are the pros and cons of having a pet German Shepherd?': [0.23854466], \"I'm a triple Capricorn (Sun, Moon and ascendant in Capricorn) What does this say about me?\": [0.23802868], 'Why is it always expected that a woman should take care of housework, children and cooking (especially in Indian culture)? Are these activities the responsibility of women alone? Why do men not share equally in such work?': [0.23533937], 'What was the significance of the battle of Somme, and how did this battle compare and contrast to the Battle of Riyadh?': [0.23396218], 'How much and with what should I feed my 3 months old raven?': [0.2338711], 'How do concentric and eccentric contraction compare and contrast?': [0.22584784], 'What are time deposits? Are RD and FD types of time deposits?': [0.20880505], 'Why do people hate Shahrukh Khan and why do people feel that he is not an Indian?': [0.20340663], \"What is the most delicious dish you've ever eaten and why?\": [0.1889867], 'Do bullets travel faster than the speed of sound when shot from a gun? If not, is it possible? If they do, what gun and how much devastation occurs?': [0.18897577], 'What were the major effects of the cambodia earthquake, and how do these effects compare to the Valparaiso earthquake in 1822?': [0.14780194], 'Who is the richest gambler of all time and how can I reach his level as a gambler?': [0.1325833]}\n"
     ]
    }
   ],
   "source": [
    "import operator#To sort the candidates from the highest to the lowest\n",
    "sorted_d = dict(sorted(Cosine_Candidates.items(), key=operator.itemgetter(1),reverse=True))\n",
    "print(sorted_d)"
   ]
  },
  {
   "cell_type": "code",
   "execution_count": 73,
   "id": "5a16b8b5",
   "metadata": {},
   "outputs": [],
   "source": [
    "NW_Candidates2=[] #The questions that has 85% similarity only\n",
    "for i in sorted_d:\n",
    "    if sorted_d[i] >= [0.85]:\n",
    "        NW_Candidates2.append(i)"
   ]
  },
  {
   "cell_type": "code",
   "execution_count": 74,
   "id": "5a9c1fad",
   "metadata": {},
   "outputs": [],
   "source": [
    "#sort the dictionary in descending way and get the best 10 possible similar questions\n",
    "NW_Candidates=NW_Candidates2[:10]"
   ]
  },
  {
   "cell_type": "code",
   "execution_count": 75,
   "id": "128240ff",
   "metadata": {},
   "outputs": [
    {
     "name": "stdout",
     "output_type": "stream",
     "text": [
      "['How can I see all my Youtube comments?']\n"
     ]
    }
   ],
   "source": [
    "print(NW_Candidates)\n",
    "#print(len(NW_Candidates))"
   ]
  },
  {
   "cell_type": "code",
   "execution_count": 76,
   "id": "ae4e176a",
   "metadata": {},
   "outputs": [],
   "source": [
    "if not NW_Candidates: #To check if there is no similar question detected after Cosine layer\n",
    "        print(\"Since we did not get any candidates(i.e list of possible questions) from our Cosine Similarity, therefore, the question is not duplicated \")"
   ]
  },
  {
   "cell_type": "markdown",
   "id": "4f5d07c5",
   "metadata": {},
   "source": [
    "# Third Layer - Needleman-Wunch Algorith \n",
    "https://github.com/scastlara/minineedle"
   ]
  },
  {
   "cell_type": "code",
   "execution_count": 81,
   "id": "d545abb8",
   "metadata": {},
   "outputs": [
    {
     "name": "stdout",
     "output_type": "stream",
     "text": [
      "-------------- How can I see all my Youtube comments?\n"
     ]
    }
   ],
   "source": [
    "from minineedle import needle, core\n",
    "\n",
    "R = {} # Dicitonary to Save query, target sentence, precent identity and the actual aligmnet\n",
    "for i in NW_Candidates:\n",
    "    print(\"--------------\",i)\n",
    "    i.lower()\n",
    "    query.lower()\n",
    "    i.split()\n",
    "    query.split()\n",
    "    alignment = needle.NeedlemanWunsch(query,i)\n",
    "    x = alignment.get_identity()\n",
    "    y = alignment \n",
    "    R[i]=[x , query, i, y]"
   ]
  },
  {
   "cell_type": "code",
   "execution_count": 82,
   "id": "0da15001",
   "metadata": {},
   "outputs": [
    {
     "name": "stdout",
     "output_type": "stream",
     "text": [
      "Query:  How do I read and find my YouTube comments? \n",
      "\n",
      "Target Question: \n",
      " How can I see all my Youtube comments? \n",
      "\n",
      "Perecent Identity using NW: 70.23\n",
      "Alignment\n",
      " Alignment of Query and Target Sentence is:\n",
      "\tHow -do I read and find my YouTube comments?\n",
      "\tHow can I se-e a-----ll my Youtube comments?\n",
      "\n"
     ]
    }
   ],
   "source": [
    "if R:\n",
    "    max_value = max(R.values())\n",
    "    print('Query: ',query,'\\n')\n",
    "    print('Target Question: \\n',max_value[2],'\\n')\n",
    "    print('Perecent Identity using NW:',max_value[0])\n",
    "    print('Alignment\\n',max_value[3])\n",
    "else:\n",
    "    print(\"Your Needleman-Wunch is empty\")"
   ]
  },
  {
   "cell_type": "markdown",
   "id": "3a0cf78e",
   "metadata": {},
   "source": [
    "# Finialize the Results and Possible Candidates"
   ]
  },
  {
   "cell_type": "code",
   "execution_count": 83,
   "id": "931e12d8",
   "metadata": {},
   "outputs": [
    {
     "name": "stdout",
     "output_type": "stream",
     "text": [
      "The question a user asked is:\n",
      "\n",
      "- How do I read and find my YouTube comments? \n",
      "\n",
      "*Your question was asked before, this is the best candidate(s) question we found:\n",
      "\n",
      "-  How can I see all my Youtube comments?\n",
      "\n",
      "According to our model we belive that the best candidate is:\n",
      "\n",
      "→ How can I see all my Youtube comments?\n"
     ]
    }
   ],
   "source": [
    "print('The question a user asked is:\\n')\n",
    "print(\"-\",query,\"\\n\")\n",
    "#If Cosine candidates is empty then this question is not duplicated\n",
    "#print(len(NW_Candidates))\n",
    "if not NW_Candidates:\n",
    "        print(\"Congratulations 🎉 🎊 🍾 🎈 your question has never been asked before\")        \n",
    "else:\n",
    "    print(\"*Your question was asked before, this is the best candidate(s) question we found:\\n\")\n",
    "    for i in NW_Candidates:\n",
    "        print(\"- \",i)\n",
    "    print(\"\\nAccording to our model we belive that the best candidate is:\\n\")\n",
    "    print(\"→\",max_value[2]) "
   ]
  },
  {
   "cell_type": "code",
   "execution_count": null,
   "id": "1bda0292",
   "metadata": {},
   "outputs": [],
   "source": []
  }
 ],
 "metadata": {
  "kernelspec": {
   "display_name": "Python 3 (ipykernel)",
   "language": "python",
   "name": "python3"
  },
  "language_info": {
   "codemirror_mode": {
    "name": "ipython",
    "version": 3
   },
   "file_extension": ".py",
   "mimetype": "text/x-python",
   "name": "python",
   "nbconvert_exporter": "python",
   "pygments_lexer": "ipython3",
   "version": "3.9.7"
  }
 },
 "nbformat": 4,
 "nbformat_minor": 5
}
